{
  "cells": [
    {
      "cell_type": "markdown",
      "metadata": {
        "id": "AVXdHBVfjg_b"
      },
      "source": [
        "## Question 1"
      ]
    },
    {
      "cell_type": "markdown",
      "metadata": {
        "id": "urXxc6jYjg_e"
      },
      "source": [
        "- `Take two integer numbers and return their product. If the product is greater than 1000, then return their sum if product is less than 1000 return product value only.`\n",
        "\n"
      ]
    },
    {
      "cell_type": "code",
      "execution_count": null,
      "metadata": {
        "id": "_OyOACpfjg_f",
        "outputId": "1bcd69c2-b726-48b6-a06b-a8b3eb1b3814",
        "colab": {
          "base_uri": "https://localhost:8080/"
        }
      },
      "outputs": [
        {
          "output_type": "stream",
          "name": "stdout",
          "text": [
            "10\n",
            "200\n",
            "2000\n",
            "210\n"
          ]
        }
      ],
      "source": [
        "# Please write The solution Here for above question 1:\n",
        "\n",
        "a=int(input())\n",
        "b=int(input())\n",
        "pro=a*b\n",
        "print(pro)\n",
        "if(pro>1000):\n",
        "  print(a+b)\n",
        "else:\n",
        "  pass\n",
        "\n"
      ]
    },
    {
      "cell_type": "markdown",
      "metadata": {
        "id": "nryeuzlwjg_g"
      },
      "source": [
        "## question 2"
      ]
    },
    {
      "cell_type": "markdown",
      "metadata": {
        "id": "tZbmKfnXjg_h"
      },
      "source": [
        "- `Given a range of the first 10 numbers, Iterate from the start number to the end number, and In each iteration print the sum of the current number and previous number`\n",
        "\n",
        "Expected output:\n",
        "-----------------\n",
        "    Printing current and previous number sum in a range(10)\n",
        "    Current Number 0 Previous Number  0  Sum:  0\n",
        "    Current Number 1 Previous Number  0  Sum:  1\n",
        "    Current Number 2 Previous Number  1  Sum:  3\n",
        "    Current Number 3 Previous Number  2  Sum:  5\n",
        "    Current Number 4 Previous Number  3  Sum:  7\n",
        "    Current Number 5 Previous Number  4  Sum:  9\n",
        "    Current Number 6 Previous Number  5  Sum:  11\n",
        "    Current Number 7 Previous Number  6  Sum:  13\n",
        "    Current Number 8 Previous Number  7  Sum:  15\n",
        "    Current Number 9 Previous Number  8  Sum:  17"
      ]
    },
    {
      "cell_type": "code",
      "execution_count": null,
      "metadata": {
        "id": "MprGmfo4jg_h",
        "outputId": "16c8f1be-af02-46da-9b7a-232915942012",
        "colab": {
          "base_uri": "https://localhost:8080/"
        }
      },
      "outputs": [
        {
          "output_type": "stream",
          "name": "stdout",
          "text": [
            "Current Number 0 Previous Number  0  Sum:  0\n",
            "Current Number 1 Previous Number  0  Sum:  1\n",
            "Current Number 2 Previous Number  1  Sum:  3\n",
            "Current Number 3 Previous Number  2  Sum:  5\n",
            "Current Number 4 Previous Number  3  Sum:  7\n",
            "Current Number 5 Previous Number  4  Sum:  9\n",
            "Current Number 6 Previous Number  5  Sum:  11\n",
            "Current Number 7 Previous Number  6  Sum:  13\n",
            "Current Number 8 Previous Number  7  Sum:  15\n",
            "Current Number 9 Previous Number  8  Sum:  17\n"
          ]
        }
      ],
      "source": [
        "# Please write The solution Here for above question 2:\n",
        "pre_num=0\n",
        "for i in range(10):\n",
        "  sum=pre_num+i\n",
        "  print(f'Current Number {i} Previous Number  {pre_num}  Sum:  {sum}')\n",
        "  pre_num=i\n",
        "\n",
        "\n"
      ]
    },
    {
      "cell_type": "markdown",
      "metadata": {
        "id": "cm55qC05jg_i"
      },
      "source": [
        "## question 3"
      ]
    },
    {
      "cell_type": "markdown",
      "metadata": {
        "id": "m3iultXpjg_i"
      },
      "source": [
        "Given a string and an integer number n, remove characters from a string starting from zero up to n and return a new string\n",
        "\n",
        "- Example :\n",
        "     `(\"pynative\", 4) so output must be tive.`\n",
        "     \n",
        "     `Note: n must be less than the length of the string.`"
      ]
    },
    {
      "cell_type": "code",
      "execution_count": null,
      "metadata": {
        "id": "qKODAqRajg_i",
        "outputId": "8bb56afd-1841-4a40-a278-44a93c8c6361",
        "colab": {
          "base_uri": "https://localhost:8080/"
        }
      },
      "outputs": [
        {
          "output_type": "stream",
          "name": "stdout",
          "text": [
            "pynative\n",
            "tive\n"
          ]
        }
      ],
      "source": [
        "# Please write The solution Here for above question 3:\n",
        "a=input()\n",
        "n=4\n",
        "res=''\n",
        "for i in range(0,len(a)):\n",
        "  if i>=n:\n",
        "    res=res+a[i]\n",
        "print(res)\n",
        "\n"
      ]
    },
    {
      "cell_type": "markdown",
      "metadata": {
        "id": "YNyn3P1Njg_j"
      },
      "source": [
        "## question 4"
      ]
    },
    {
      "cell_type": "markdown",
      "metadata": {
        "id": "JGq9WJ_1jg_j"
      },
      "source": [
        "### `Given a list of numbers, return True if first and last number of a list is same`\n",
        "\n",
        "    Expected Output:\n",
        "    -------------------------------------\n",
        "\n",
        "    Given list is\n",
        "    a =  [10, 20, 30, 40, 10]\n",
        "    b = [10 , 20 , 30 , 40, 10 ]\n",
        "    result is True\n",
        "\n",
        "    Given list is  \n",
        "    a = [10, 20, 30, 40, 50]\n",
        "    b = [11 , 21 , 31 , 41 , 51 ]\n",
        "    result is False"
      ]
    },
    {
      "cell_type": "code",
      "execution_count": null,
      "metadata": {
        "id": "sC0EJN5Ejg_j",
        "outputId": "ec7c5599-f8e3-429a-badc-edb6db72f97e",
        "colab": {
          "base_uri": "https://localhost:8080/"
        }
      },
      "outputs": [
        {
          "output_type": "stream",
          "name": "stdout",
          "text": [
            "10 20 30 40 50\n",
            "11 20 33 66 44 55\n",
            "False\n"
          ]
        }
      ],
      "source": [
        "# Please write The solution Here for above question 4:\n",
        "a =  input().split()\n",
        "b=input().split()\n",
        "if a[0] == b[-1]:\n",
        "  print('True')\n",
        "else:\n",
        "  print('False')\n",
        "\n"
      ]
    },
    {
      "cell_type": "markdown",
      "metadata": {
        "id": "HR3p5xR4jg_j"
      },
      "source": [
        "## question 5"
      ]
    },
    {
      "cell_type": "markdown",
      "metadata": {
        "id": "f3JDSiyTjg_j"
      },
      "source": [
        "### Given a two Python list. Iterate both lists simultaneously such that list1 should display item in original order and list2 in reverse order\n",
        "\n",
        "    list1 = [10, 20, 30, 40]\n",
        "    list2 = [100, 200, 300, 400]\n",
        "\n",
        "\n",
        "    Expected output:\n",
        "    -----------------------------\n",
        "    10 400\n",
        "    20 300\n",
        "    30 200\n",
        "    40 100"
      ]
    },
    {
      "cell_type": "code",
      "execution_count": null,
      "metadata": {
        "id": "lHb7XGC2jg_j",
        "outputId": "b774e8c2-8a85-4f10-c4a5-3758da62fe7e",
        "colab": {
          "base_uri": "https://localhost:8080/"
        }
      },
      "outputs": [
        {
          "output_type": "stream",
          "name": "stdout",
          "text": [
            "10 20 30 40\n",
            "100 200 300 400\n",
            "10 400\n",
            "20 300\n",
            "30 200\n",
            "40 100\n"
          ]
        }
      ],
      "source": [
        "# Please write The solution Here for above question\n",
        "a=input().split()\n",
        "b=input().split()\n",
        "b=b[::-1]\n",
        "for i in range(0,len(a)) :\n",
        "  print(a[i],b[i])\n"
      ]
    },
    {
      "cell_type": "markdown",
      "metadata": {
        "id": "RZDWreihjg_k"
      },
      "source": [
        "## question 6"
      ]
    },
    {
      "cell_type": "markdown",
      "metadata": {
        "id": "DO0pOvEQjg_k"
      },
      "source": [
        "### Remove empty strings from the list of strings\n",
        "\n",
        "\n",
        "    list1 = [\"Mike\", \"\", \"Emma\", \"Kelly\", \"\", \"Brad\"]\n",
        "\n",
        "    Expected output:\n",
        "    ----------------------\n",
        "\n",
        "    [\"Mike\", \"Emma\", \"Kelly\", \"Brad\"]\n"
      ]
    },
    {
      "cell_type": "code",
      "execution_count": null,
      "metadata": {
        "id": "0tQtkv4Hjg_k",
        "outputId": "a7b09e11-41ba-4d82-a3e2-92b45aac3f08",
        "colab": {
          "base_uri": "https://localhost:8080/"
        }
      },
      "outputs": [
        {
          "output_type": "stream",
          "name": "stdout",
          "text": [
            "['Mike', 'Emma', 'Kelly', 'Brad']\n"
          ]
        }
      ],
      "source": [
        "# Please write The solution Here for above question 6:\n",
        "a=[\"Mike\", \"\", \"Emma\", \"Kelly\", \"\", \"Brad\"]\n",
        "for i in a:\n",
        "  if(i==\"\"):\n",
        "    a.remove(i)\n",
        "print(a)\n",
        "\n"
      ]
    },
    {
      "cell_type": "code",
      "execution_count": null,
      "metadata": {
        "id": "ZHBrONncjg_k"
      },
      "outputs": [],
      "source": []
    }
  ],
  "metadata": {
    "kernelspec": {
      "display_name": "Python 3 (ipykernel)",
      "language": "python",
      "name": "python3"
    },
    "language_info": {
      "codemirror_mode": {
        "name": "ipython",
        "version": 3
      },
      "file_extension": ".py",
      "mimetype": "text/x-python",
      "name": "python",
      "nbconvert_exporter": "python",
      "pygments_lexer": "ipython3",
      "version": "3.11.5"
    },
    "colab": {
      "provenance": []
    }
  },
  "nbformat": 4,
  "nbformat_minor": 0
}