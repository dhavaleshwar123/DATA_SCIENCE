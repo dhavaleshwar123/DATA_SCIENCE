{
  "nbformat": 4,
  "nbformat_minor": 0,
  "metadata": {
    "colab": {
      "provenance": [],
      "authorship_tag": "ABX9TyMwAlYpa2OE/UxBhxBUgVgp",
      "include_colab_link": true
    },
    "kernelspec": {
      "name": "python3",
      "display_name": "Python 3"
    },
    "language_info": {
      "name": "python"
    }
  },
  "cells": [
    {
      "cell_type": "markdown",
      "metadata": {
        "id": "view-in-github",
        "colab_type": "text"
      },
      "source": [
        "<a href=\"https://colab.research.google.com/github/dhavaleshwar123/DATA_SCIENCE/blob/main/Assignment3.ipynb\" target=\"_parent\"><img src=\"https://colab.research.google.com/assets/colab-badge.svg\" alt=\"Open In Colab\"/></a>"
      ]
    },
    {
      "cell_type": "code",
      "execution_count": null,
      "metadata": {
        "id": "miAwarG_ozN2"
      },
      "outputs": [],
      "source": []
    },
    {
      "cell_type": "markdown",
      "source": [],
      "metadata": {
        "id": "_SWQpSnpo0Zj"
      }
    },
    {
      "cell_type": "code",
      "source": [
        "s1='hai'\n",
        "vowels=['a','e','i','o','u','A','E','I','O','U']\n",
        "outp=''\n",
        "for i in range(len(s1)):\n",
        "  if s1[i] not in vowels:\n",
        "    outp=outp+s1[i]\n",
        "print(outp)"
      ],
      "metadata": {
        "colab": {
          "base_uri": "https://localhost:8080/"
        },
        "id": "b_dvsydKo05Q",
        "outputId": "3d58122d-6295-4e62-95ce-b5509660597e"
      },
      "execution_count": 1,
      "outputs": [
        {
          "output_type": "stream",
          "name": "stdout",
          "text": [
            "h\n"
          ]
        }
      ]
    },
    {
      "cell_type": "markdown",
      "source": [],
      "metadata": {
        "id": "IOtQAR66pBIH"
      }
    },
    {
      "cell_type": "code",
      "source": [
        "s2='data'\n",
        "vowels=['a','e','i','o','u','A','E','I','O','U']\n",
        "outp2=''\n",
        "for i in range(len(s2)):\n",
        "  if s2[i] in vowels:\n",
        "    outp2=outp2+s2[i]\n",
        "print(outp2)"
      ],
      "metadata": {
        "colab": {
          "base_uri": "https://localhost:8080/"
        },
        "id": "-99M-QTHpBy7",
        "outputId": "f6fe9bee-c31a-485e-ba21-5f4c6e8e18bc"
      },
      "execution_count": 2,
      "outputs": [
        {
          "output_type": "stream",
          "name": "stdout",
          "text": [
            "aa\n"
          ]
        }
      ]
    },
    {
      "cell_type": "markdown",
      "source": [],
      "metadata": {
        "id": "ORvD86LvpQNE"
      }
    },
    {
      "cell_type": "code",
      "source": [
        "input_list = [10, 11, 50, 34]\n",
        "output_list = []\n",
        "for index, value in enumerate(input_list):\n",
        "    new_value = value * 10 + index\n",
        "    output_list.append(new_value)\n",
        "print(output_list)\n"
      ],
      "metadata": {
        "colab": {
          "base_uri": "https://localhost:8080/"
        },
        "id": "Yh6JpuRDpRWk",
        "outputId": "efe5fd27-db07-4ced-a0c8-1a18c16da551"
      },
      "execution_count": 3,
      "outputs": [
        {
          "output_type": "stream",
          "name": "stdout",
          "text": [
            "[100, 111, 502, 343]\n"
          ]
        }
      ]
    },
    {
      "cell_type": "markdown",
      "source": [
        "4 . This is a Python Program to print all integers that aren’t divisible by either 2 or 3 and lies between 1 and 50."
      ],
      "metadata": {
        "id": "SlYFxdaPpgNJ"
      }
    },
    {
      "cell_type": "code",
      "source": [
        "for i in range(1,51):\n",
        "  if i%2!=0 and i%3!=0:\n",
        "    print(i)"
      ],
      "metadata": {
        "colab": {
          "base_uri": "https://localhost:8080/"
        },
        "id": "tgXBBEaVpg5b",
        "outputId": "629607f5-d760-469e-d3b9-6a443fb5531a"
      },
      "execution_count": 4,
      "outputs": [
        {
          "output_type": "stream",
          "name": "stdout",
          "text": [
            "1\n",
            "5\n",
            "7\n",
            "11\n",
            "13\n",
            "17\n",
            "19\n",
            "23\n",
            "25\n",
            "29\n",
            "31\n",
            "35\n",
            "37\n",
            "41\n",
            "43\n",
            "47\n",
            "49\n"
          ]
        }
      ]
    },
    {
      "cell_type": "markdown",
      "source": [
        "5 . The program takes in an integer and prints the smallest divisor of the integer.\n"
      ],
      "metadata": {
        "id": "Oa5ASJrfp71j"
      }
    },
    {
      "cell_type": "code",
      "source": [
        "number5=int(input())\n",
        "for i in range(2,number5+1):\n",
        "  if number5%i==0:\n",
        "    print(i)\n",
        "    break"
      ],
      "metadata": {
        "colab": {
          "base_uri": "https://localhost:8080/"
        },
        "id": "h4Sm3X6gp_Sa",
        "outputId": "4f847986-40ba-4419-e598-7a64d235d319"
      },
      "execution_count": 7,
      "outputs": [
        {
          "output_type": "stream",
          "name": "stdout",
          "text": [
            "29\n",
            "29\n"
          ]
        }
      ]
    },
    {
      "cell_type": "markdown",
      "source": [
        "7 . Write a Python program that takes input from the user and displays that input back in upper and lower cases."
      ],
      "metadata": {
        "id": "v7Ze4Ug6qY7X"
      }
    },
    {
      "cell_type": "code",
      "source": [
        "string7=input()\n",
        "print(string7.upper())\n",
        "print(string7.lower())"
      ],
      "metadata": {
        "colab": {
          "base_uri": "https://localhost:8080/"
        },
        "id": "D_uc677xqc_t",
        "outputId": "a7e6903e-d75b-4dde-9d4c-e17d19628ce6"
      },
      "execution_count": 8,
      "outputs": [
        {
          "output_type": "stream",
          "name": "stdout",
          "text": [
            "String\n",
            "STRING\n",
            "string\n"
          ]
        }
      ]
    },
    {
      "cell_type": "markdown",
      "source": [
        "8 . Write a Python program to remove spaces from a given string\n",
        "\n",
        "input = united states\n",
        "\n",
        "output = unitedstates\n"
      ],
      "metadata": {
        "id": "LzX1QCasrb1z"
      }
    },
    {
      "cell_type": "code",
      "source": [
        "string8=input()\n",
        "print(string8.replace(\" \",\"\"))"
      ],
      "metadata": {
        "colab": {
          "base_uri": "https://localhost:8080/"
        },
        "id": "NaTk9hJNrfrp",
        "outputId": "39642d3c-d0ea-4025-d6a8-808a18d08e5c"
      },
      "execution_count": 10,
      "outputs": [
        {
          "output_type": "stream",
          "name": "stdout",
          "text": [
            "u s a \n",
            "usa\n"
          ]
        }
      ]
    },
    {
      "cell_type": "markdown",
      "source": [
        "9 . Write a Python program to capitalize first and last letters of each word of a given string."
      ],
      "metadata": {
        "id": "EzrmQ402r_x7"
      }
    },
    {
      "cell_type": "code",
      "source": [
        "string9=input()\n",
        "newstr9=[]\n",
        "string9lenght=len(string9)\n",
        "for i in string9.split():\n",
        "  newstr9.append(i[0].capitalize()+i[1:string9lenght-1]+i[string9lenght-1].capitalize())\n",
        "print(newstr9)"
      ],
      "metadata": {
        "colab": {
          "base_uri": "https://localhost:8080/"
        },
        "id": "GCNtbrrHr_P1",
        "outputId": "6975df37-58ab-4e11-c177-55205844f71a"
      },
      "execution_count": 14,
      "outputs": [
        {
          "output_type": "stream",
          "name": "stdout",
          "text": [
            "usa\n",
            "['UsA']\n"
          ]
        }
      ]
    },
    {
      "cell_type": "markdown",
      "source": [
        "10 . write a python program to find length of a string but should not use       len keyword"
      ],
      "metadata": {
        "id": "M98D8RyXtvgz"
      }
    },
    {
      "cell_type": "code",
      "source": [
        "string10=input()\n",
        "count=0\n",
        "for i in  string10:\n",
        "  count+=1\n",
        "print(count)"
      ],
      "metadata": {
        "colab": {
          "base_uri": "https://localhost:8080/"
        },
        "id": "7zWp8bZgt1nw",
        "outputId": "c271b2f5-9c17-4026-e745-48763ed1d734"
      },
      "execution_count": 18,
      "outputs": [
        {
          "output_type": "stream",
          "name": "stdout",
          "text": [
            "usaus\n",
            "5\n"
          ]
        }
      ]
    }
  ]
}